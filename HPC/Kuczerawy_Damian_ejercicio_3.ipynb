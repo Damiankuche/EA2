{
  "nbformat": 4,
  "nbformat_minor": 0,
  "metadata": {
    "colab": {
      "name": "Kuczerawy_Damian_ejercicio_3_GPGPU.ipynb",
      "provenance": []
    },
    "kernelspec": {
      "name": "python3",
      "display_name": "Python 3"
    }
  },
  "cells": [
    {
      "cell_type": "markdown",
      "metadata": {
        "id": "OSh4N2STUxFD"
      },
      "source": [
        "# 1 Introducción\n",
        "\n",
        "En el siguiente ejemplo se realiza la suma de dos matrices.[1]\n",
        "\n",
        "La suma de matrices se realiza sumando los componentes de ambas matrices que se encuentran en la misma posición. Para poder realizar la suma ambas matrices deben tener la misma dimensión.\n",
        "\n",
        "![Captura de pantalla 2020-12-02 173827.png](data:image/png;base64,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)\n",
        "\n",
        "Para poder simular esto en C se realiza un vector de vectores donde el primer indice representa a la fila de la matriz y el segundo indice representa a las columnas.[2]"
      ]
    },
    {
      "cell_type": "markdown",
      "metadata": {
        "id": "jAldvRFnU3Sh"
      },
      "source": [
        "---\n",
        "# 2 Armado del ambiente\n",
        "Se codifica y compila el código escrito en C en el ambiente de desarrollo para la posterior ejecución."
      ]
    },
    {
      "cell_type": "code",
      "metadata": {
        "id": "yYLsMWRwU_cH"
      },
      "source": [
        "# Codigo Python, que tiene el código C de la suma de matrices.\n",
        "code = \"\"\"\n",
        "// La suma de matrices con OpenMP, usando c, ejecutado en Colab. \n",
        "\n",
        "#include <iostream>\n",
        "#include <vector>\n",
        "#include <cstdlib>\n",
        "#include <sys/time.h>\n",
        "#include <omp.h>    // Cabecera OpenMP   \n",
        "\n",
        "// ----------------------------------------------------------------------------\n",
        "// Macros que miden el tiempo.\n",
        "\n",
        "static double dHashTiempoHistory[3];\n",
        "static struct timeval tv;\n",
        "\n",
        "#define TIEMPO_INI( h )      \\\n",
        "   gettimeofday(&tv,NULL);   \\\n",
        "   dHashTiempoHistory[ h ] = tv.tv_sec + tv.tv_usec/1000000.0;\n",
        "   \n",
        "   \n",
        "#define TIEMPO_FIN( h )      \\\n",
        "   gettimeofday(&tv,NULL);   \\\n",
        "   dHashTiempoHistory[ h ] = ((tv.tv_sec + tv.tv_usec/1000000.0) - dHashTiempoHistory[ h ]) * 1000; // Devuelvo en milisegundos\n",
        "#define TIEMPO_GET( h ) dHashTiempoHistory[ h ]\n",
        "\n",
        "#define HTH_TOTAL         1\n",
        "#define HTH_SUMA_SEC      2\n",
        "#define HTH_SUMA_OMP      3\n",
        "\n",
        "// ----------------------------------------------------------------------------\n",
        "\n",
        "int main(int argc, char* argv[]) \n",
        "{ \n",
        "  int i,j,c;\n",
        "\n",
        "  TIEMPO_INI( HTH_TOTAL )\n",
        "\n",
        "  // Leo los parametros.\n",
        "  if( argc != 3 )\n",
        "  {\n",
        "      std::cerr<< \" Error en la cantidad de parámetros ingresados. Ingresar solamente el tamaño de los vectores a realizar el producto escalar.\"<<std::endl;\n",
        "      exit( -1 );\n",
        "  }\n",
        "\n",
        "  int cantidad_filas = atoi( argv[1] );\n",
        "  int cantidad_col = atoi( argv[2] );\n",
        "  \n",
        "  if(cantidad_filas <= 0 || cantidad_filas >20000)\n",
        "  {\n",
        "    std::cerr<< \" Los parámetros ingresados deben estar comprendido entre 0 y 20000.\"<<std::endl;\n",
        "      exit( -1 );\n",
        "  }\n",
        "\n",
        "  if(cantidad_col <= 0 || cantidad_col >20000)\n",
        "  {\n",
        "    std::cerr<< \" Los parámetros ingresados deben estar comprendido entre 0 y 20000.\"<<std::endl;\n",
        "      exit( -1 );\n",
        "  }\n",
        "\n",
        "  // --------------------------------------------\n",
        "  // Defino la memoria de los vectores.\n",
        "\n",
        "  std::vector<std::vector<double> > A( cantidad_filas, std::vector<double>(cantidad_col));\n",
        "  std::vector<std::vector<double> > B( cantidad_filas, std::vector<double>(cantidad_col));\n",
        "  std::vector<std::vector<double> > R( cantidad_filas, std::vector<double>(cantidad_col));\n",
        "\n",
        "  for (int i=0;i<cantidad_filas;i++)\n",
        "  {\n",
        "    for(j=0;j<cantidad_col;j++)\n",
        "    {\n",
        "      A[i][j] = (rand()/(double)RAND_MAX)*0.73;\n",
        "      B[i][j] = (rand()/(double)RAND_MAX)*0.73;\n",
        "    }\n",
        "  }\n",
        "  // --------------------------------------------\n",
        "  // Realizo la suma en forma secuencial.\n",
        "\n",
        "  TIEMPO_INI( HTH_SUMA_SEC )\n",
        "\n",
        "  \n",
        "  for(i=0;i<cantidad_filas;i++)\n",
        "  {\n",
        "    for(j=0;j<cantidad_col;j++)\n",
        "    {\n",
        "      R[i][j] = A[i][j]+B[i][j];\n",
        "    }\n",
        "  }\n",
        "\n",
        "  TIEMPO_FIN( HTH_SUMA_SEC )\n",
        "\n",
        "  // --------------------------------------------\n",
        "  // Realizo la suma con OpenMP.\n",
        "\n",
        "  TIEMPO_INI( HTH_SUMA_OMP )\n",
        "  \n",
        "\n",
        "  \n",
        "  for(i=0;i<cantidad_filas;i++)\n",
        "  {\n",
        "    #pragma omp parallel for\n",
        "    for(j=0;j<cantidad_col;j++)\n",
        "    {\n",
        "      R[i][j] = A[i][j]+B[i][j];\n",
        "    }\n",
        "  }\n",
        "\n",
        "  TIEMPO_FIN( HTH_SUMA_OMP )\n",
        "\n",
        "  // --------------------------------------------\n",
        "  // Muestro los resultados.\n",
        "  /*\n",
        "  std::cout<<std::endl;\n",
        "  std::cout<<std::endl;\n",
        "\n",
        "  std::cout<<\"Matriz A:\"<<std::endl;\n",
        "\n",
        "  for(i=0;i<cantidad_filas;i++)\n",
        "  {\n",
        "    for(j=0;j<cantidad_col;j++)\n",
        "    {\n",
        "      std::cout<<A[i][j]<<\"  \";\n",
        "    }\n",
        "    std::cout<<std::endl;\n",
        "  }\n",
        "\n",
        "  std::cout<<std::endl;\n",
        "  std::cout<<std::endl;\n",
        "\n",
        "  std::cout<<\"Matriz B:\"<<std::endl;\n",
        "  for(i=0;i<cantidad_filas;i++)\n",
        "  {\n",
        "    for(j=0;j<cantidad_col;j++)\n",
        "    {\n",
        "      std::cout<<B[i][j]<<\"  \";\n",
        "    }\n",
        "    std::cout<<std::endl;\n",
        "  }\n",
        "\n",
        "  std::cout<<std::endl;\n",
        "  std::cout<<std::endl;\n",
        "\n",
        "  std::cout<<\"Matriz Resulado:\"<<std::endl;\n",
        "  for(i=0;i<cantidad_filas;i++)\n",
        "  {\n",
        "    for(j=0;j<cantidad_col;j++)\n",
        "    {\n",
        "      std::cout<<R[i][j]<<\"  \";\n",
        "    }\n",
        "    std::cout<<std::endl;\n",
        "  }\n",
        "\n",
        "  std::cout<<std::endl;\n",
        "  std::cout<<std::endl;\n",
        "  */\n",
        "\n",
        "\n",
        "  TIEMPO_FIN( HTH_TOTAL )\n",
        "\n",
        " std::cout<<\"Valores Reales  :\" <<std::endl;\n",
        " std::cout<<\"Tiempo TOTAL     : \"<<TIEMPO_GET(HTH_TOTAL   )<<\" [ms]\"<<std::endl;\n",
        " std::cout<<\"Tiempo Sec  : \"<<TIEMPO_GET(HTH_SUMA_SEC)<<\" [ms]\"<<std::endl;\n",
        " std::cout<<\"Tiempo Omp  : \"<<TIEMPO_GET(HTH_SUMA_OMP)<<\" [ms]\"<<std::endl;\n",
        " std::cout<<std::endl;\n",
        " std::cout<<\"SpeedUp          : (tiempo Secuencial/tiempo paralelo) : \"<<TIEMPO_GET(HTH_SUMA_SEC)<<\" / \"<<TIEMPO_GET(HTH_SUMA_OMP)<<\" = \"<<TIEMPO_GET(HTH_SUMA_SEC)/TIEMPO_GET(HTH_SUMA_OMP)<<std::endl;\n",
        " std::cout<<\"Eficiencia       : SpeedUp/nro procesadores            : \"<<TIEMPO_GET(HTH_SUMA_SEC)/TIEMPO_GET(HTH_SUMA_OMP)<<\" / \"<<omp_get_num_procs()<<\" = \"<<TIEMPO_GET(HTH_SUMA_SEC)/(omp_get_num_procs()*TIEMPO_GET(HTH_SUMA_OMP))<<std::endl;\n",
        " std::cout<<\"Coste Sec        : nro procesadores*Tiempo             : \"<<1<<\" * \"<<TIEMPO_GET(HTH_SUMA_SEC)<<\" = \"<<TIEMPO_GET(HTH_SUMA_SEC)<<std::endl;\n",
        " std::cout<<\"Coste Omp        : nro procesadores*Tiempo             : \"<<omp_get_num_procs()<<\" * \"<<TIEMPO_GET(HTH_SUMA_OMP)<<\" = \"<<omp_get_num_procs()*TIEMPO_GET(HTH_SUMA_OMP)<<std::endl;\n",
        " std::cout<<\"Funcion Overhead : Coste Omp - tiempo Secuencial       : \"<<omp_get_num_procs()*TIEMPO_GET(HTH_SUMA_OMP)<<\" - \"<<TIEMPO_GET(HTH_SUMA_SEC)<<\" = \"<<(omp_get_num_procs()*TIEMPO_GET(HTH_SUMA_OMP))-TIEMPO_GET(HTH_SUMA_SEC)<<std::endl;\n",
        "\n",
        "\n",
        " std::cout<<std::endl;\n",
        " std::cout<<\"Valores Ideal: \"<<std::endl;\n",
        " TIEMPO_GET(HTH_SUMA_OMP) = TIEMPO_GET(HTH_SUMA_SEC) / 2;\n",
        " std::cout<<\"Tiempo Sec  : \"<<TIEMPO_GET(HTH_SUMA_SEC)<<\" [ms]\"<<std::endl;\n",
        " std::cout<<\"Tiempo Omp  : \"<<TIEMPO_GET(HTH_SUMA_OMP)<<\" [ms]\"<<std::endl;\n",
        "\n",
        " std::cout<<\"SpeedUp          : (tiempo Secuencial/tiempo paralelo) : \"<<TIEMPO_GET(HTH_SUMA_SEC)<<\" / \"<<TIEMPO_GET(HTH_SUMA_OMP)<<\" = \"<<TIEMPO_GET(HTH_SUMA_SEC)/TIEMPO_GET(HTH_SUMA_OMP)<<std::endl;\n",
        " std::cout<<\"Eficiencia       : SpeedUp/nro procesadores            : \"<<TIEMPO_GET(HTH_SUMA_SEC)/TIEMPO_GET(HTH_SUMA_OMP)<<\" / \"<<omp_get_num_procs()<<\" = \"<<TIEMPO_GET(HTH_SUMA_SEC)/(omp_get_num_procs()*TIEMPO_GET(HTH_SUMA_OMP))<<std::endl;\n",
        " std::cout<<\"Coste Sec        : nro procesadores*Tiempo             : \"<<1<<\" * \"<<TIEMPO_GET(HTH_SUMA_SEC)<<\" = \"<<TIEMPO_GET(HTH_SUMA_SEC)<<std::endl;\n",
        " std::cout<<\"Coste Omp        : nro procesadores*Tiempo             : \"<<omp_get_num_procs()<<\" * \"<<TIEMPO_GET(HTH_SUMA_OMP)<<\" = \"<<omp_get_num_procs()*TIEMPO_GET(HTH_SUMA_OMP)<<std::endl;\n",
        " std::cout<<\"Funcion Overhead : Coste Omp - tiempo Secuencial       : \"<<omp_get_num_procs()*TIEMPO_GET(HTH_SUMA_OMP)<<\" - \"<<TIEMPO_GET(HTH_SUMA_SEC)<<\" = \"<<(omp_get_num_procs()*TIEMPO_GET(HTH_SUMA_OMP))-TIEMPO_GET(HTH_SUMA_SEC)<<std::endl;\n",
        "\n",
        "\n",
        "}\n",
        "// ----------------------------------------------------------------------------\n",
        "\n",
        "\"\"\"\n",
        "text_file = open(\"code_suma.cpp\", \"w\")\n",
        "text_file.write(code)\n",
        "text_file.close()"
      ],
      "execution_count": 6,
      "outputs": []
    },
    {
      "cell_type": "markdown",
      "metadata": {
        "id": "KxbQVZ5ulAiv"
      },
      "source": [
        "## 2.2.Compilación de código C de la suma de matrices. "
      ]
    },
    {
      "cell_type": "code",
      "metadata": {
        "id": "X91iBe5DlrXG"
      },
      "source": [
        "!g++ -o suma_mtx -fopenmp code_suma.cpp"
      ],
      "execution_count": 7,
      "outputs": []
    },
    {
      "cell_type": "markdown",
      "metadata": {
        "id": "ZihI3uz1V2KW"
      },
      "source": [
        "---\n",
        "# 3 Desarrollo"
      ]
    },
    {
      "cell_type": "markdown",
      "metadata": {
        "id": "NPhfKIWXluJ1"
      },
      "source": [
        "## 3.1.Ejecución Suma de matrices."
      ]
    },
    {
      "cell_type": "code",
      "metadata": {
        "id": "F0YcHkX3lxA2",
        "colab": {
          "base_uri": "https://localhost:8080/"
        },
        "outputId": "0b691fa1-ada6-4eeb-b39f-3a9910e9e2d7"
      },
      "source": [
        "#Ingresar la cantidad de filas y columnas de las matrices a sumar.\n",
        "%env OMP_NUM_THREADS = 2\n",
        "!./suma_mtx 20000 20000"
      ],
      "execution_count": 8,
      "outputs": [
        {
          "output_type": "stream",
          "text": [
            "env: OMP_NUM_THREADS=2\n",
            "Valores Reales  :\n",
            "Tiempo TOTAL     : 32796.4 [ms]\n",
            "Tiempo Sec  : 6443.06 [ms]\n",
            "Tiempo Omp  : 5885.01 [ms]\n",
            "\n",
            "SpeedUp          : (tiempo Secuencial/tiempo paralelo) : 6443.06 / 5885.01 = 1.09483\n",
            "Eficiencia       : SpeedUp/nro procesadores            : 1.09483 / 2 = 0.547413\n",
            "Coste Sec        : nro procesadores*Tiempo             : 1 * 6443.06 = 6443.06\n",
            "Coste Omp        : nro procesadores*Tiempo             : 2 * 5885.01 = 11770\n",
            "Funcion Overhead : Coste Omp - tiempo Secuencial       : 11770 - 6443.06 = 5326.96\n",
            "\n",
            "Valores Ideal: \n",
            "Tiempo Sec  : 6443.06 [ms]\n",
            "Tiempo Omp  : 3221.53 [ms]\n",
            "SpeedUp          : (tiempo Secuencial/tiempo paralelo) : 6443.06 / 3221.53 = 2\n",
            "Eficiencia       : SpeedUp/nro procesadores            : 2 / 2 = 1\n",
            "Coste Sec        : nro procesadores*Tiempo             : 1 * 6443.06 = 6443.06\n",
            "Coste Omp        : nro procesadores*Tiempo             : 2 * 3221.53 = 6443.06\n",
            "Funcion Overhead : Coste Omp - tiempo Secuencial       : 6443.06 - 6443.06 = 0\n"
          ],
          "name": "stdout"
        }
      ]
    },
    {
      "cell_type": "markdown",
      "metadata": {
        "id": "BHRkxDc4U_1R"
      },
      "source": [
        "---\n",
        "# 4 Tabla de pasos de ejecución del programa\n",
        "\n",
        "\n",
        " Procesador | Función | Detalle\n",
        "------------|---------|----------\n",
        "CPU      |  Variable Code       | Se guarda en una variable todo el código en que se va a ejecutar.\n",
        "CPU      |  text_file Write     | Se crea un archivo .cpp con el código del programa\n",
        "CPU      |  g++                 | Se compila el archivo guardado para crear un archivo binario.\n",
        "CPU      |  Ejecucion           | Se ejecuta el programa compilado anteriormente.\n",
        "CPU      |  #include         | Se incluyen las librerias necesarias.\n",
        "CPU      |  #define          | Se definen funciones de temporizador.\n",
        "CPU      |  TIEMPO_INI       | Inicia el temporizador del tiempo total.\n",
        "CPU      |  atoi             | Se guarda en variables los parametros ingresados.  \n",
        "CPU      |  if               | Se validan que los parámetros ingresados sean correctos.\n",
        "CPU      |  std::vector           | Se definen las memorias de las matrices.\n",
        "CPU      |  rand            | Se completan las matrices A y B con valores aleatorios.\n",
        "CPU      |  TIEMPO_INI           | Inicia el temporizador de la suma de forma secuencial.\n",
        "CPU      |  For anidados       | Se realiza la suma de matrices de forma secuencial.\n",
        "CPU      |  TIEMPO_FIN      | Finaliza el temporizador de la suma de forma secuencial.\n",
        "CPU      |  TIEMPO_INI       | Inicia el temporizador de la suma de forma paralela.\n",
        "CPU      |  For anidados       | Se realiza la suma de matrices de forma paralela.\n",
        "CPU      |  TIEMPO_FIN      | Finaliza el temporizador de la suma de forma paralela.\n",
        "CPU      |  cout        | Se muestra por pantalla las matrices A, B y la matriz resultante de la suma.\n",
        "CPU      |  TIEMPO_FIN          | Finaliza el temporizador del tiempo total.\n",
        "CPU      |  cout          | Se muestra por pantalla las estadisticas de las ejecuciones secuencial y paralela."
      ]
    },
    {
      "cell_type": "markdown",
      "metadata": {
        "id": "8syr_69WVCOh"
      },
      "source": [
        "---\n",
        "# 5 Conclusiones\n",
        "\n",
        "Como se puede apreciar en las estadisticas de la ejecución, la ejecución en paralelo tiene un mejor tiempo de respuesta que la ejecución en serie. Pero a diferencia de trabajar en GPGPU donde la diferencia es abismal, trabajar el paralelismo con openMP es menor la diferencia entre la ejecución en paralelo y en serie, ya que el paralelismo de openMP depende de la cantidad de núcleos que posea el procesador, si bien se pueden programar más hilos que la cantidad de núcleos, van a estar ejecutandose de forma concurrente solamente la cantidad de nucleos que haya disponible, el resto de los hilos estarán compitiendo por el procesador. \n",
        "\n"
      ]
    },
    {
      "cell_type": "markdown",
      "metadata": {
        "id": "iMevo58oVEI5"
      },
      "source": [
        "---\n",
        "# 6 Bibliografía\n",
        "\n",
        "\n",
        "[1] Suma de matrices: [Wiki](https://es.wikipedia.org/wiki/Adici%C3%B3n_matricial)\n",
        "\n",
        "[2] Manejo de matrices en C++: [Web](https://riptutorial.com/es/cplusplus/example/17463/matrices-usando-vectores) "
      ]
    }
  ]
}