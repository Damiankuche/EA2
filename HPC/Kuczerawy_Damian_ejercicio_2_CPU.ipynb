{
  "nbformat": 4,
  "nbformat_minor": 0,
  "metadata": {
    "colab": {
      "name": "Kuczerawy_Damian_ejercicio_2_CPU.ipynb",
      "provenance": []
    },
    "kernelspec": {
      "name": "python3",
      "display_name": "Python 3"
    }
  },
  "cells": [
    {
      "cell_type": "markdown",
      "metadata": {
        "id": "MfQzAqekym65"
      },
      "source": [
        "# 1 Introducción\n",
        "\n",
        "El siguiente ejemplo modifica el color de una imagen parametrizada dependiendo de los parametros de entrada, estos parametros estan dados por tres barras deslizantes que marca la intensidad de los colores Rojo(**R**), Verde(**G**) y Azul(**B**).[1]\n",
        "\n",
        "Cada Pixel esta formado por tres canales y cada uno de estos canales esta formado por los colores antes mencionados.[2]\n",
        "\n",
        "<center>$ Pixel=CanalRojo*(param\\_rojo,0,0)+CanalVerde*(0,param\\_verde,0)+CanalAzul*(0,0,param\\_azul)$</center>"
      ]
    },
    {
      "cell_type": "markdown",
      "metadata": {
        "id": "-HTWeCOQyxWA"
      },
      "source": [
        "---\n",
        "# 2 Armado del ambiente\n",
        "Toma la dirección web de una imagen con acceso público en internet, la deja disponible al contexto de ejecución del cuaderno Colab."
      ]
    },
    {
      "cell_type": "code",
      "metadata": {
        "colab": {
          "base_uri": "https://localhost:8080/"
        },
        "id": "iiI5pO0ZylKr",
        "outputId": "fbb0b8f3-7002-48b5-c1f9-4fdbe3f0be23"
      },
      "source": [
        "#@title ## 2.1 Parámetros de ejecución\n",
        "#@markdown ---\n",
        "#@markdown ### Especifique la URL de la imagen:\n",
        "url_imagen = \"https://raw.githubusercontent.com/kuczerawy/EA2/main/colores.jpg\" #@param {type:\"string\"}\n",
        "\n",
        "# TODO: Mejorar información y resultado de ejecución. \n",
        "!wget {url_imagen} -O imagen.jpg"
      ],
      "execution_count": 4,
      "outputs": [
        {
          "output_type": "stream",
          "text": [
            "--2020-11-28 18:22:35--  https://raw.githubusercontent.com/kuczerawy/EA2/main/colores.jpg\n",
            "Resolving raw.githubusercontent.com (raw.githubusercontent.com)... 151.101.0.133, 151.101.64.133, 151.101.128.133, ...\n",
            "Connecting to raw.githubusercontent.com (raw.githubusercontent.com)|151.101.0.133|:443... connected.\n",
            "HTTP request sent, awaiting response... 200 OK\n",
            "Length: 66257 (65K) [image/jpeg]\n",
            "Saving to: ‘imagen.jpg’\n",
            "\n",
            "imagen.jpg          100%[===================>]  64.70K  --.-KB/s    in 0.009s  \n",
            "\n",
            "2020-11-28 18:22:35 (7.32 MB/s) - ‘imagen.jpg’ saved [66257/66257]\n",
            "\n"
          ],
          "name": "stdout"
        }
      ]
    },
    {
      "cell_type": "markdown",
      "metadata": {
        "id": "DJZxxUW4y8rR"
      },
      "source": [
        "# 3 Desarrollo"
      ]
    },
    {
      "cell_type": "code",
      "metadata": {
        "colab": {
          "base_uri": "https://localhost:8080/",
          "height": 552
        },
        "id": "Tz5dwQRey5Fv",
        "outputId": "9f057ee5-c05c-4080-e8e8-a16ce4b6b384"
      },
      "source": [
        "#@title 3.1 Parámetros de ejecución de CPU: { vertical-output: true }\n",
        "#@markdown ### Mueve las barras deslizables para establecer cuanto influencia ese color en la imagen:\n",
        "\n",
        "try:\n",
        "\n",
        "  rojo = 1 #@param {type:\"slider\", min:0, max:1, step:0.001}\n",
        "  verde = 1 #@param {type:\"slider\", min:0, max:1, step:0.001}\n",
        "  azul = 0.999 #@param {type:\"slider\", min:0, max:1, step:0.001}\n",
        "\n",
        "  %matplotlib inline\n",
        "  from datetime import datetime\n",
        "\n",
        "  tiempo_total = datetime.now()\n",
        "\n",
        "  import  matplotlib.pyplot as plt\n",
        "  import numpy\n",
        "  from PIL import Image \n",
        "\n",
        "  # --------------------------------------------\n",
        "  # Definición de función que transforma el tiempo en  milisegundos \n",
        "  tiempo_en_ms = lambda dt:(dt.days * 24 * 60 * 60 + dt.seconds) * 1000 + dt.microseconds / 1000.0\n",
        "  # --------------------------------------------\n",
        "\n",
        "\n",
        "  img_nombre = 'imagen.jpg'\n",
        "  image = Image.open( img_nombre ) \n",
        "    \n",
        "  # Optengo las proporsiones de la imagen. \n",
        "  img_alto, img_ancho = image.size \n",
        "\n",
        "  # Convierto la imagen comprimida en JPEG/PNG a array.\n",
        "  img_pic_cpu = numpy.asarray(image)\n",
        "\n",
        "  # Genero el array resultado (3 pixeles usa RGB * (el tamaño del array)).\n",
        "  img_picR_cpu = numpy.empty_like( img_pic_cpu)\n",
        "\n",
        "  # Muestro los atributos de la imagen y como se ve antes del seudo filtro.\n",
        "  print(\"Imagen del filtro: \" + img_nombre + \" -\" + image.mode + \"- [\" + str(img_ancho) + \", \" + str(img_alto ) + \"]\" )  \n",
        "\n",
        "  #muestro la imagen original\n",
        "  plt.figure()\n",
        "  imgplot=plt.imshow( img_pic_cpu )\n",
        "\n",
        "  tiempo_img = datetime.now()\n",
        "\n",
        "  # Convierto la imagen dependiendo los parametros\n",
        "  for y  in range( 0, img_alto ):\n",
        "    for x in range( 0, img_ancho ):\n",
        "      pixel_R, pixel_G, pixel_B = img_pic_cpu[x][y]\n",
        "\n",
        "      \n",
        "      canal_rojo = (pixel_R*rojo)+(pixel_G*0)+(pixel_B*0)\n",
        "      canal_verde = (pixel_R*0)+(pixel_G*verde)+(pixel_B*0)\n",
        "      canal_azul = (pixel_R*0)+(pixel_G*0)+(pixel_B*azul)\n",
        "      \n",
        "      img_picR_cpu[x][y] = [canal_rojo, canal_verde, canal_azul]\n",
        "\n",
        "  tiempo_img = datetime.now() - tiempo_img\n",
        "\n",
        "  # Muestro la imagen luego de aplicarle el filtro.\n",
        "  plt.figure()\n",
        "  imgplot = plt.imshow( img_picR_cpu )\n",
        "\n",
        "  tiempo_total = datetime.now() - tiempo_total\n",
        "\n",
        "  print( \"Tiempo de conversión de imagen:\", tiempo_en_ms( tiempo_img   ), \"[ms]\" )\n",
        "  print( \"Tiempo Total:\",                   tiempo_en_ms( tiempo_total ), \"[ms]\" )\n",
        "except FileNotFoundError as err:\n",
        "  print(\"No se encuentra cargada la imágen. Por favor ejecuta el armado del ambiente.\")\n",
        "  print(err)\n",
        "except Exception as err:\n",
        "  print(\"Ocurrió un error inesperado\")\n",
        "  print(err)"
      ],
      "execution_count": 5,
      "outputs": [
        {
          "output_type": "stream",
          "text": [
            "Imagen del filtro: imagen.jpg -RGB- [1186, 1920]\n",
            "Tiempo de conversión de imagen: 55433.64 [ms]\n",
            "Tiempo Total: 55599.551 [ms]\n"
          ],
          "name": "stdout"
        },
        {
          "output_type": "display_data",
          "data": {
            "image/png": "[encoded data removed]",
            "text/plain": [
              "<Figure size 432x288 with 1 Axes>"
            ]
          },
          "metadata": {
            "tags": [],
            "needs_background": "light"
          }
        },
        {
          "output_type": "display_data",
          "data": {
            "image/png": "[encoded data removed]",
            "text/plain": [
              "<Figure size 432x288 with 1 Axes>"
            ]
          },
          "metadata": {
            "tags": [],
            "needs_background": "light"
          }
        }
      ]
    },
    {
      "cell_type": "markdown",
      "metadata": {
        "id": "KFJbJuZJzEkf"
      },
      "source": [
        "---\n",
        "# 4 Tabla de pasos de ejecución del programa\n",
        "\n",
        "\n",
        " Procesador | Función | Detalle\n",
        "------------|---------|----------\n",
        "CPU      |  wget url_imagen       | Lectura de la dirección URL de la imagen (jpg) a procesar.\n",
        "CPU      |  @param                | Lectura de los parametros ingresados.\n",
        "CPU      |  import                | Importa los módulos para funcionar.\n",
        "CPU      |  datetime.now()        | Toma el tiempo actual.\n",
        "CPU      |  Image.open()          | Abre el archivo de la imagen.\n",
        "CPU      |  numpy.asarray(imagen) | Convierte el formato comprimido JPG a RAW.\n",
        "CPU      |  numpy.empty_like(()   | Genera el array destino, que tendrá a la imagen resultado. \n",
        "CPU      |  print()               | Informa los atributos de la imagen.\n",
        "CPU      |  plt.imshow            | Muestra la imagen original.\n",
        "CPU      |  Bucles anidados       | Convierte la imagen de acuerdo a los parametros ingresados.\n",
        "CPU      |  plt.imshow            | Muestra la imagen resultado."
      ]
    },
    {
      "cell_type": "markdown",
      "metadata": {
        "id": "a0gEVHbHzHQA"
      },
      "source": [
        "---\n",
        "# 5 Conclusiones\n",
        "\n",
        "El procesamiento de una imágen es muy costoso ya que tiene que trabajar en dos dimensiones (alto y ancho). \n",
        "Una imágen de tamaño 800*600 (que es relativamente de baja resolucion ya que hay imágenes de 2560*1024) tiene que procesar 480.000 pixeles.\n",
        "\n",
        "Al trabajar con procesamiento secuencial (**CPU**) se debe trabajar con bucles anidados para cubrir las dos dimensiones de la imágen por lo que la complejidad computaciónal es de tipo cuadrática por lo que los tiempos de respuestas son muy elevados. El tiempo de respuesta depende del tamaño de la imagén, un pequeño incremento en el tamaño de la imagén incrementa considerablemente el tiempo de respuesta.\n",
        "\n",
        "\n",
        "\n",
        "Cuando se trabaja con procesamiento paralelo (**CPU-GPU**) cada hilo ejecutado accede y modifica directamente un pixel de la imágen y al trabajar estos hilos de forma concurrente se eliminan los bucles anidados reduciendo así la complejidad computacional obteniendo muy buenos tiempos de respuestas incluso para imagenes con alta resolución."
      ]
    },
    {
      "cell_type": "markdown",
      "metadata": {
        "id": "NT4xdfPDzJvv"
      },
      "source": [
        "---\n",
        "# 6 Bibliografía\n",
        "\n",
        "\n",
        "[1] Procesamiento de imagenes: [PDF](http://www2.elo.utfsm.cl/~elo328/pdf1dpp/PDI13_Color_1dpp.pdf)\n",
        "\n",
        "[2] Canales de imagen digital: [Wiki](https://es.wikipedia.org/wiki/Canal_(imagen_digital) "
      ]
    }
  ]
}