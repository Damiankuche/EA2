{
  "nbformat": 4,
  "nbformat_minor": 0,
  "metadata": {
    "colab": {
      "name": "Kuczerawy_Damian_ejercicio_1_CPU.ipynb",
      "provenance": [],
      "collapsed_sections": []
    },
    "kernelspec": {
      "name": "python3",
      "display_name": "Python 3"
    }
  },
  "cells": [
    {
      "cell_type": "markdown",
      "metadata": {
        "id": "_-JyNfDjmfxt"
      },
      "source": [
        "---\n",
        "# 1 Introducción\n",
        "\n",
        "El siguiente cuaderno realiza el binomio de Newton[1] entre los componentes de dos vectores. El ejercicio se resuelve tanto usando únicamente CPU como tambien CPU-GPU para ver los tiempos de respuesta de cada tipo de ejecución.\n",
        "\n",
        "El binomio de Newton esta dado por la formnula:\n",
        "\n",
        " <center> $(a+b)^n$ </center>\n",
        "\n",
        "**Donde:**\n",
        "\n",
        "$a$ y $b$ son cada uno de los componentes de los vectores.\n",
        "\n",
        "$n$ es el parámetro potencia que solicita el código.\n",
        "\n",
        "Este cuaderno resuelvo hasta el binomio de potencia 4.\n",
        "\n",
        "Tipos de binomio:\n",
        "\n",
        "Potencia: 0\n",
        "\n",
        "$(a+b)^0 = 1$\n",
        "\n",
        "Potencia: 1\n",
        "\n",
        "$(a+b)^1 = a+b$\n",
        "\n",
        "Potencia: 2\n",
        "\n",
        "$(a+b)^2 = a^2+2a*b+b^2$\n",
        "\n",
        "Potencia: 3\n",
        "\n",
        "$(a+b)^3 = a^3+3a^2*b+3a*b^2+b^3$\n",
        "\n",
        "Potencia: 4\n",
        "\n",
        "$(a+b)^4 = a^4+4a^3*b+6a^2*b^2+4a*b^3+b^4$\n",
        "\n",
        "\n",
        "Estos ejercicios están resueltos en lenguaje Python[2] en la plataforma Colab[3]\n"
      ]
    },
    {
      "cell_type": "markdown",
      "metadata": {
        "id": "T1tS3CaiyhT6"
      },
      "source": [
        "---\n",
        "# 2 Armado del ambiente\n",
        "No son necesarios la ejecuciones previas de armado del ambiente."
      ]
    },
    {
      "cell_type": "markdown",
      "metadata": {
        "id": "07Co-c8xyk4K"
      },
      "source": [
        "---\n",
        "# 3 Desarrollo\n"
      ]
    },
    {
      "cell_type": "code",
      "metadata": {
        "colab": {
          "base_uri": "https://localhost:8080/"
        },
        "id": "tchvZNVldRiz",
        "outputId": "0edd956d-b86c-4c97-efa0-757aa4369d79"
      },
      "source": [
        "# --------------------------------------------\n",
        "#@title 3.1 Parámetros de ejecución de CPU { vertical-output: true }\n",
        "\n",
        "class ParametroException(Exception):\n",
        "  #Ocurre cuando los parametros ingresados son incorrectos.\n",
        "  def __init__(self,*args,**kwargs):\n",
        "    Exception.__init__(self,*args,**kwargs)\n",
        "\n",
        "try:\n",
        "  cantidad =   30000#@param {type: \"number\"}\n",
        "  potencia =   3#@param {type: \"number\"}\n",
        "\n",
        "  # --------------------------------------------\n",
        "  if potencia < 0 or potencia > 4 or type(potencia) != type(1):\n",
        "    raise ParametroException\n",
        "  if cantidad < 0:\n",
        "    raise ParametroException\n",
        "\n",
        "  from datetime import datetime\n",
        "\n",
        "  tiempo_total = datetime.now()\n",
        "  import sys\n",
        "  import numpy\n",
        "\n",
        "  # --------------------------------------------\n",
        "  # Definición de función que transforma el tiempo en  milisegundos \n",
        "  tiempo_en_ms = lambda dt:(dt.days * 24 * 60 * 60 + dt.seconds) * 1000 + dt.microseconds / 1000.0\n",
        "\n",
        "\n",
        "  x_cpu = numpy.random.randn(cantidad)\n",
        "  x_cpu = x_cpu.astype(numpy.float32())\n",
        "\n",
        "  y_cpu = numpy.random.randn(cantidad)\n",
        "  y_cpu = y_cpu.astype(numpy.float32()) \n",
        "\n",
        "  res_cpu = numpy.empty_like (x_cpu)\n",
        "  \n",
        "  tiempo_bucle = datetime.now()\n",
        "\n",
        "\n",
        "  if potencia == 0:\n",
        "    for i in range(0, cantidad):\n",
        "      res_cpu[i] = 1\n",
        "  elif potencia == 1:\n",
        "    for i in range(0, cantidad):\n",
        "      res_cpu[idx] = X[idx] + Y[idx]\n",
        "  elif potencia == 2:\n",
        "    for i in range(0, cantidad):\n",
        "      res_cpu[i] = pow(x_cpu[i],2) + 2*x_cpu[i]*y_cpu[i]+pow(y_cpu[i],2)\n",
        "  elif potencia == 3:\n",
        "    for i in range(0, cantidad):\n",
        "      res_cpu[i] = pow(x_cpu[i],3) + 3*pow(x_cpu[i],2)*y_cpu[i]+3*x_cpu[i]*pow(y_cpu[i],2)+pow(y_cpu[i],3)\n",
        "  elif potencia == 4:\n",
        "    for i in range(0, cantidad):\n",
        "      res_cpu[i] = pow(x_cpu[i],4) + 4*pow(x_cpu[i],3)*y_cpu[i]+6*pow(x_cpu[i],2)*pow(y_cpu[i],2)+ 4*x_cpu[i]*pow(y_cpu[i],3)+pow(y_cpu[i],4)\n",
        "\n",
        "  tiempo_bucle = datetime.now() - tiempo_bucle\n",
        "\n",
        "  \"\"\"\n",
        "  # CPU - Informo el resutlado.\n",
        "  print( \"------------------------------------\")\n",
        "  print( \"X: \" )\n",
        "  print( x_cpu )\n",
        "  print( \"------------------------------------\")\n",
        "  print( \"Y: \" )\n",
        "  print( y_cpu )\n",
        "  print( \"------------------------------------\")\n",
        "  print( \"Resultado: \" )\n",
        "  print( res_cpu )\n",
        "\n",
        "  \"\"\"\n",
        "\n",
        "  tiempo_total = datetime.now() - tiempo_total\n",
        "  print( \"Cantidad de elementos: \", cantidad)\n",
        "  print(\"Tiempo CPU: \", tiempo_en_ms( tiempo_total ), \"[ms]\" )\n",
        "  print(\"Tiempo bucle: \", tiempo_en_ms( tiempo_bucle   ), \"[ms]\" )\n",
        "except ParametroException as err:\n",
        "  print(\"Los parametros ingresados son incorrectos.\")\n",
        "  print(\"Cantidad debe ser un numero entero positivo.\")\n",
        "  print(\"Potencia debe ser un numero entero comprendido entre 0 y 4.\")\n",
        "  print(err)\n",
        "except NameError as err:\n",
        "  print(err)\n",
        "except Exception as err:\n",
        "  print(\"Ocurrió un error inesperado.\")\n",
        "  print(type(err))\n",
        "  print(err)\n"
      ],
      "execution_count": null,
      "outputs": [
        {
          "output_type": "stream",
          "text": [
            "Cantidad de elementos:  30000\n",
            "Tiempo CPU:  483.314 [ms]\n",
            "Tiempo bucle:  479.462 [ms]\n"
          ],
          "name": "stdout"
        }
      ]
    },
    {
      "cell_type": "markdown",
      "metadata": {
        "id": "zRAjhbaWxRFY"
      },
      "source": [
        "---\n",
        "#4 Tabla de pasos\n",
        "Tabla de pasos de la ejecución del programa CPU:\n",
        "\n",
        " Procesador | Función | Detalle\n",
        "------------|---------|----------\n",
        "CPU      |  Custom Exception                | Se crea una excepcion customizada\n",
        "CPU      |  @param                | Lectura del tamaño de vectores desde Colab.\n",
        "CPU      |  validación                | Se validan los parametros ingresados.\n",
        "CPU      |  import                | Importa los módulos para funcionar.\n",
        "CPU      |  datetime.now()        | Toma el tiempo inicial.\n",
        "CPU      |  numpy.random.randn( Cantidad ) | Inicializa los vectores A, B y R.\n",
        "CPU      |  bucle                | Realiza el binomio de los vectores A y B, guardando el resultado en R. \n",
        "CPU      |  datetime.now()        | Toma el tiempo final.\n",
        "CPU      |  print()               | Informa los resultados.\n",
        "\n"
      ]
    },
    {
      "cell_type": "markdown",
      "metadata": {
        "id": "cogfR9AgxXt2"
      },
      "source": [
        "---\n",
        "# 5 Conclusiones\n",
        "\n",
        "Como se puede ver en las ejecuciones, para poco cálculo la ejecución secuencial en CPU es más rápida ya que la ejecución CPU-GPU tiene que hacer la reserva de memoria en el GPU, copiar los datos a trabajar y despues copiar otra vez los resultados al vector correspondiente, por lo que se traduce en un overhead enorme y por los pocos datos a procesar no tiene sentido.\n",
        "\n",
        "Pero si la carga de datos a procesar es muy grande la diferencia entre trabajar secuencialmente con trabajar con los threads del GPU de forma paralela es muy amplia y ahí si tiene sentido y da una respuesta muchisimo más rapida trabajar con el GPU.\n",
        "\n",
        "\n",
        "Al trabajar con el procesamiento paralelo se elimina el for lo que se traduce a una menor complejidad computacional y una respuesta más rapida."
      ]
    },
    {
      "cell_type": "markdown",
      "metadata": {
        "id": "ZSpvWMaTxdy9"
      },
      "source": [
        "---\n",
        "# 6 Bibliografía\n",
        "\n",
        "[1] Binomio de Newtom: [Wiki](https://es.wikipedia.org/wiki/Teorema_del_binomio)\n",
        "\n",
        "[2] Introducción a Python: [Página Colab](https://github.com/wvaliente/SOA_HPC/blob/main/Documentos/Python_Basico.ipynb) \n",
        "\n",
        "[3] MARKDOWN SYNTAX Colab: [PDF](https://github.com/wvaliente/SOA_HPC/blob/main/Documentos/markdown-cheatsheet-online.pdf)"
      ]
    }
  ]
}