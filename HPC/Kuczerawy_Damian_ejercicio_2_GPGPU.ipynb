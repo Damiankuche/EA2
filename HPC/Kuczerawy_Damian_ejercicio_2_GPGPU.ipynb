{
  "nbformat": 4,
  "nbformat_minor": 0,
  "metadata": {
    "colab": {
      "name": "Kuczerawy_Damian_ejercicio_2_GPGPU.ipynb",
      "provenance": []
    },
    "kernelspec": {
      "name": "python3",
      "display_name": "Python 3"
    },
    "accelerator": "GPU"
  },
  "cells": [
    {
      "cell_type": "markdown",
      "metadata": {
        "id": "GPXl3PWp_eRw"
      },
      "source": [
        "# 1 Introducción\n",
        "\n",
        "El siguiente ejemplo modifica el color de una imagen parametrizada dependiendo de los parametros de entrada, estos parametros estan dados por tres barras deslizantes que marca la intensidad de los colores Rojo(**R**), Verde(**G**) y Azul(**B**).[1]\n",
        "\n",
        "Cada Pixel esta formado por tres canales y cada uno de estos canales esta formado por los colores antes mencionados.[2]\n",
        "\n",
        "<center>$ Pixel=CanalRojo*(param\\_rojo,0,0)+CanalVerde*(0,param\\_verde,0)+CanalAzul*(0,0,param\\_azul)$</center>\n"
      ]
    },
    {
      "cell_type": "markdown",
      "metadata": {
        "id": "fAm3H2gX_iA7"
      },
      "source": [
        "---\n",
        "# 2 Armado del ambiente\n",
        "Toma la dirección web de una imagen con acceso público en internet, la deja disponible al contexto de ejecución del cuaderno Colab."
      ]
    },
    {
      "cell_type": "code",
      "metadata": {
        "colab": {
          "base_uri": "https://localhost:8080/"
        },
        "id": "RjHWP2hpxWf1",
        "outputId": "602f3388-fc73-4cf6-9d77-8791e2d5f8a2"
      },
      "source": [
        "#@title ## 2.1 Parámetros de ejecución\n",
        "#@markdown ---\n",
        "#@markdown ### Especifique la URL de la imagen:\n",
        "url_imagen = \"https://raw.githubusercontent.com/kuczerawy/EA2/main/colores.jpg\" #@param {type:\"string\"}\n",
        "\n",
        "# TODO: Mejorar información y resultado de ejecución. \n",
        "!wget {url_imagen} -O imagen.jpg\n"
      ],
      "execution_count": 7,
      "outputs": [
        {
          "output_type": "stream",
          "text": [
            "--2020-11-28 18:31:19--  https://raw.githubusercontent.com/kuczerawy/EA2/main/colores.jpg\n",
            "Resolving raw.githubusercontent.com (raw.githubusercontent.com)... 151.101.0.133, 151.101.64.133, 151.101.128.133, ...\n",
            "Connecting to raw.githubusercontent.com (raw.githubusercontent.com)|151.101.0.133|:443... connected.\n",
            "HTTP request sent, awaiting response... 200 OK\n",
            "Length: 66257 (65K) [image/jpeg]\n",
            "Saving to: ‘imagen.jpg’\n",
            "\n",
            "imagen.jpg          100%[===================>]  64.70K  --.-KB/s    in 0.007s  \n",
            "\n",
            "2020-11-28 18:31:19 (8.87 MB/s) - ‘imagen.jpg’ saved [66257/66257]\n",
            "\n"
          ],
          "name": "stdout"
        }
      ]
    },
    {
      "cell_type": "markdown",
      "metadata": {
        "id": "CWGg3u_em9Df"
      },
      "source": [
        " Se instala el driver de Cuda de Nvidia para la ejecución paralela a traves de la API."
      ]
    },
    {
      "cell_type": "code",
      "metadata": {
        "colab": {
          "base_uri": "https://localhost:8080/"
        },
        "id": "v0JnfdiF7pIY",
        "outputId": "cbd089d3-1b5f-4592-c1b0-7010238529c5"
      },
      "source": [
        "!pip install pycuda"
      ],
      "execution_count": 4,
      "outputs": [
        {
          "output_type": "stream",
          "text": [
            "Collecting pycuda\n",
            "\u001b[?25l  Downloading https://files.pythonhosted.org/packages/46/61/47d3235a4c13eec5a5f03594ddb268f4858734e02980afbcd806e6242fa5/pycuda-2020.1.tar.gz (1.6MB)\n",
            "\u001b[K     |████████████████████████████████| 1.6MB 7.8MB/s \n",
            "\u001b[?25hCollecting pytools>=2011.2\n",
            "\u001b[?25l  Downloading https://files.pythonhosted.org/packages/b7/30/c9362a282ef89106768cba9d884f4b2e4f5dc6881d0c19b478d2a710b82b/pytools-2020.4.3.tar.gz (62kB)\n",
            "\u001b[K     |████████████████████████████████| 71kB 10.5MB/s \n",
            "\u001b[?25hRequirement already satisfied: decorator>=3.2.0 in /usr/local/lib/python3.6/dist-packages (from pycuda) (4.4.2)\n",
            "Collecting appdirs>=1.4.0\n",
            "  Downloading https://files.pythonhosted.org/packages/3b/00/2344469e2084fb287c2e0b57b72910309874c3245463acd6cf5e3db69324/appdirs-1.4.4-py2.py3-none-any.whl\n",
            "Collecting mako\n",
            "\u001b[?25l  Downloading https://files.pythonhosted.org/packages/a6/37/0e706200d22172eb8fa17d68a7ae22dec7631a0a92266634fb518a88a5b2/Mako-1.1.3-py2.py3-none-any.whl (75kB)\n",
            "\u001b[K     |████████████████████████████████| 81kB 10.5MB/s \n",
            "\u001b[?25hRequirement already satisfied: six>=1.8.0 in /usr/local/lib/python3.6/dist-packages (from pytools>=2011.2->pycuda) (1.15.0)\n",
            "Requirement already satisfied: numpy>=1.6.0 in /usr/local/lib/python3.6/dist-packages (from pytools>=2011.2->pycuda) (1.18.5)\n",
            "Requirement already satisfied: dataclasses>=0.7 in /usr/local/lib/python3.6/dist-packages (from pytools>=2011.2->pycuda) (0.8)\n",
            "Requirement already satisfied: MarkupSafe>=0.9.2 in /usr/local/lib/python3.6/dist-packages (from mako->pycuda) (1.1.1)\n",
            "Building wheels for collected packages: pycuda, pytools\n",
            "  Building wheel for pycuda (setup.py) ... \u001b[?25l\u001b[?25hdone\n",
            "  Created wheel for pycuda: filename=pycuda-2020.1-cp36-cp36m-linux_x86_64.whl size=620900 sha256=d1f11f25b1819a9e6e8526c689b953d723728dd05fe4d411dbf261aefdef6aa3\n",
            "  Stored in directory: /root/.cache/pip/wheels/8f/78/d1/5bb826f81d9d490297a348d818ff3ee6dd6f2075b06dde6ea0\n",
            "  Building wheel for pytools (setup.py) ... \u001b[?25l\u001b[?25hdone\n",
            "  Created wheel for pytools: filename=pytools-2020.4.3-py2.py3-none-any.whl size=61374 sha256=bb2a6322cbff6f2a2cd30f77704acc2ff8540e78aef1e1a16767eef60a5e7fe7\n",
            "  Stored in directory: /root/.cache/pip/wheels/af/c7/81/a22edb90b0b09a880468b2253bb1df8e9f503337ee15432c64\n",
            "Successfully built pycuda pytools\n",
            "Installing collected packages: appdirs, pytools, mako, pycuda\n",
            "Successfully installed appdirs-1.4.4 mako-1.1.3 pycuda-2020.1 pytools-2020.4.3\n"
          ],
          "name": "stdout"
        }
      ]
    },
    {
      "cell_type": "markdown",
      "metadata": {
        "id": "P_1k5e_x_ui7"
      },
      "source": [
        "# 3 Desarrollo"
      ]
    },
    {
      "cell_type": "code",
      "metadata": {
        "colab": {
          "base_uri": "https://localhost:8080/",
          "height": 586
        },
        "id": "QEM6H0kd7TO4",
        "outputId": "ae64a838-f72d-4c9d-8123-d0aefb0cc4b3"
      },
      "source": [
        "#@title 3.1 Parámetros de ejecución de GPU: { vertical-output: true }\n",
        "#@markdown ### Mueve las barras deslizables para establecer cuanto influencia ese color en la imagen:\n",
        "\n",
        "try:\n",
        "\n",
        "  rojo = 1 #@param {type:\"slider\", min:0, max:1, step:0.001}\n",
        "  verde = 1 #@param {type:\"slider\", min:0, max:1, step:0.001}\n",
        "  azul = 1 #@param {type:\"slider\", min:0, max:1, step:0.001}\n",
        "\n",
        "  %matplotlib inline\n",
        "  from datetime import datetime\n",
        "  tiempo_total = datetime.now()\n",
        "\n",
        "  import matplotlib.pyplot as plt\n",
        "  import numpy\n",
        "  from PIL import Image \n",
        "  import pycuda.driver as cuda\n",
        "  import pycuda.autoinit\n",
        "  from pycuda.compiler import SourceModule\n",
        "\n",
        "  # --------------------------------------------\n",
        "  # Definición de función que transforma el tiempo en  milisegundos \n",
        "  tiempo_en_ms = lambda dt:(dt.days * 24 * 60 * 60 + dt.seconds) * 1000 + dt.microseconds / 1000.0\n",
        "  # --------------------------------------------\n",
        "\n",
        "  img_nombre = 'imagen.jpg'\n",
        "  image = Image.open( img_nombre ) \n",
        "    \n",
        "  # summarize some details about the image \n",
        "  img_alto, img_ancho = image.size \n",
        "\n",
        "  # Convierto la imagen comprimida en JPEG/PNG a array\n",
        "  img_O_cpu = numpy.asarray(image)\n",
        "  img_R_cpu = numpy.empty_like( img_O_cpu)\n",
        "\n",
        "  # Reservo los 2 vectores en GPU(3 pixeles usa RGB * (el tamaño del array))\n",
        "  img_O_gpu = cuda.mem_alloc( img_O_cpu.nbytes )\n",
        "  img_R_gpu = cuda.mem_alloc( img_R_cpu.nbytes )\n",
        "\n",
        "  # GPU - Copio la memoria al GPU.\n",
        "  cuda.memcpy_htod( img_O_gpu, img_O_cpu )\n",
        "  cuda.memcpy_htod( img_R_gpu, img_R_cpu )\n",
        "\n",
        "  # CPU - Defino la función kernel que ejecutará en GPU.\n",
        "  module = SourceModule(\"\"\"\n",
        "  __global__ void kernel_img(int ancho, int alto, char *img_O, char *img_R, float rojo, float verde, float azul )\n",
        "  {\n",
        "    // Calculo las coordenadas del Thread en dos dimensiones.\n",
        "    int idx = threadIdx.x + blockIdx.x*blockDim.x;\n",
        "    int idy = threadIdx.y + blockIdx.y*blockDim.y;\n",
        "    float fRojo= 0.0;\n",
        "    float fVerde = 0.0;\n",
        "    float fAzul = 0.0;\n",
        "\n",
        "    // Verifico que los Thread, esten dentro de las dimensiones de la imagen.\n",
        "    if( idx < ancho && idy < alto )\n",
        "    {      \n",
        "          fRojo = (float)img_O[(idx+(idy*ancho))*3    ]*rojo;  // Componente Rojo del canal.\n",
        "          fRojo +=(float)img_O[((idx+(idy*ancho)))*3+1]*0;  // Componente Verde del canal.\n",
        "          fRojo +=(float)img_O[((idx+(idy*ancho)))*3+2]*0;   // Componente Azul del canal.\n",
        "\n",
        "          fVerde = (float)img_O[(idx+(idy*ancho))*3    ]*0;  // Componente Rojo del canal.\n",
        "          fVerde +=(float)img_O[((idx+(idy*ancho)))*3+1]*verde;  // Componente Verde del canal.\n",
        "          fVerde +=(float)img_O[((idx+(idy*ancho)))*3+2]*0;   // Componente Azul del canal.\n",
        "\n",
        "          fAzul = (float)img_O[(idx+(idy*ancho))*3    ]*0;  // Componente Rojo del canal.\n",
        "          fAzul +=(float)img_O[((idx+(idy*ancho)))*3+1]*0;  // Componente Verde del canal.\n",
        "          fAzul +=(float)img_O[((idx+(idy*ancho)))*3+2]*azul;   // Componente Azul del canal.\n",
        "          // Escribo el color del canal.\n",
        "          img_R[(idx+(idy*ancho))*3  ] = (char) fRojo;\n",
        "          img_R[(idx+(idy*ancho))*3+1] = (char) fVerde;\n",
        "          img_R[(idx+(idy*ancho))*3+2] = (char) fAzul;\n",
        "      \n",
        "    }\n",
        "  }\n",
        "  \"\"\") \n",
        "\n",
        "  # Muestro los atributos de la imagen y como se ve antes del seudo filtro.\n",
        "  print(\"Imagen del filtro: \" + img_nombre + \" -\" + image.mode + \"- [\" + str(img_ancho) + \", \" + str(img_alto ) + \"]\" )  \n",
        "\n",
        "  # CPU - Genero la función kernel.\n",
        "  kernel = module.get_function(\"kernel_img\")\n",
        "\n",
        "  tiempo_img = datetime.now()\n",
        "\n",
        "  dim_hilo_x = 16\n",
        "  dim_bloque_x = numpy.int( (img_ancho+dim_hilo_x-1) / dim_hilo_x )\n",
        "\n",
        "  dim_hilo_y = 19\n",
        "  dim_bloque_y = numpy.int( (img_alto+dim_hilo_y-1) / dim_hilo_y )\n",
        "\n",
        "  print( \"Thread: [\", dim_hilo_x, \",\", dim_hilo_y, \" ], Bloque : [\", dim_bloque_x, \",\", dim_bloque_y, \"]\" )\n",
        "  print( \"Total de Thread: [\", dim_hilo_x*dim_bloque_x, \",\", dim_hilo_y*dim_bloque_y, \" ]\", \" = \", dim_hilo_x*dim_bloque_x*dim_hilo_y*dim_bloque_y )\n",
        "\n",
        "  tiempo_img = datetime.now()\n",
        "\n",
        "  kernel(numpy.int32(img_ancho), numpy.int32(img_alto), img_O_gpu, img_R_gpu,numpy.float32(rojo),numpy.float32(verde),numpy.float32(azul), block=( dim_hilo_x, dim_hilo_y, 1 ), grid=(dim_bloque_x, dim_bloque_y,1) )\n",
        "\n",
        "  tiempo_img = datetime.now() - tiempo_img\n",
        "\n",
        "  # GPU - Copio el resultado desde la memoria GPU.\n",
        "  cuda.memcpy_dtoh( img_R_cpu, img_R_gpu )\n",
        "\n",
        "  # Muestro la imagen Original el filtro.\n",
        "  plt.figure()\n",
        "  imgplot=plt.imshow( img_O_cpu )\n",
        "\n",
        "  # Muestro la imagen luego de aplicarle el filtro.\n",
        "  plt.figure()\n",
        "  imgplot=plt.imshow( img_R_cpu )\n",
        "\n",
        "  tiempo_total = datetime.now() - tiempo_total\n",
        "\n",
        "  print(\"Tiempo TOTAL: \", tiempo_en_ms( tiempo_total ), \"[ms]\" )\n",
        "  print(\"Tiempo GPU  : \", tiempo_en_ms( tiempo_img ), \"[ms]\" )\n",
        "\n",
        "except ModuleNotFoundError as err:\n",
        "  print(\"No se encuentra el modulo Pycuda. Por favor ejecuta el armado del ambiente.\")\n",
        "  print(err)\n",
        "except FileNotFoundError as err:\n",
        "  print(\"No se encuentra cargada la imágen. Por favor ejecuta el armado del ambiente.\")\n",
        "  print(err)\n",
        "except Exception as err:\n",
        "  print(\"Ocurrió un error inesperado\")\n",
        "  print(err)"
      ],
      "execution_count": 9,
      "outputs": [
        {
          "output_type": "stream",
          "text": [
            "Imagen del filtro: imagen.jpg -RGB- [1186, 1920]\n",
            "Thread: [ 16 , 19  ], Bloque : [ 75 , 102 ]\n",
            "Total de Thread: [ 1200 , 1938  ]  =  2325600\n",
            "Tiempo TOTAL:  421.633 [ms]\n",
            "Tiempo GPU  :  2.304 [ms]\n"
          ],
          "name": "stdout"
        },
        {
          "output_type": "display_data",
          "data": {
            "image/png": "[encoded data removed]",
            "text/plain": [
              "<Figure size 432x288 with 1 Axes>"
            ]
          },
          "metadata": {
            "tags": [],
            "needs_background": "light"
          }
        },
        {
          "output_type": "display_data",
          "data": {
            "image/png": "[encoded data removed]",
            "text/plain": [
              "<Figure size 432x288 with 1 Axes>"
            ]
          },
          "metadata": {
            "tags": [],
            "needs_background": "light"
          }
        }
      ]
    },
    {
      "cell_type": "markdown",
      "metadata": {
        "id": "yk0jVuKQ_7iM"
      },
      "source": [
        "---\n",
        "# 4 Tabla de pasos\n",
        "\n",
        "\n",
        " Procesador | Funciòn | Detalle\n",
        "------------|---------|----------\n",
        "CPU      |  wget url_imagen       | Lectura de la direcciòn URL de la imagen (jpg) a procesar.\n",
        "CPU      | pip install pycuda    | Instala en el cuaderno los driver de CUDA para Python.\n",
        "CPU      |  @param                | Lectura de los parametros ingresados.\n",
        "CPU      |  matplotlib inline    | Macro de Colab para mostrar imagenes.\n",
        "CPU      |  import                | Importa los módulos para funcionar.\n",
        "CPU      |  datetime.now()        | Toma el tiempo actual.\n",
        "CPU      |  Image.open()          | Abre el archivo de la imagen.\n",
        "CPU      |  numpy.asarray(imagen) | Convierte el formato comprimido JPG a RAW.\n",
        "CPU      |  numpy.empty_like(()   | Genera el array destino, que tendrá a la imagen resultado. \n",
        "**GPU**  |  cuda.mem_alloc()      | Reserva la memoria para las imagenes en GPU.\n",
        "**GPU**  |  cuda.memcpy_htod()    | Copio los valores en crudo de las imagenes al GPU.\n",
        "CPU      |  SourceModule()        | Posee el còdigo del kernel.\n",
        "CPU      |  module.get_function() | convierte el texto del kernel en funcion de Python.\n",
        "CPU      |  dim_hilo_x, dim_hilo_y| Calcula las dimensiones para la ejecuciòn de 2D.\n",
        "**GPU**  |  kernel()              | Ejecuta el kernel en GPU, enviando los parametros.\n",
        "CPU      |  print()               | Informa los atributos de la imagen.\n",
        "CPU      | cuda.memcpy_dtoh()     | Copia desde la memoria GPU al CPU.\n",
        "CPU      |  plt.imshow            | Muestra la imagen original.\n",
        "CPU      |  plt.imshow            | Muestra la imagen resultado."
      ]
    },
    {
      "cell_type": "markdown",
      "metadata": {
        "id": "4OLJJeM-_-Qk"
      },
      "source": [
        "---\n",
        "# 5 Conclusiones\n",
        "\n",
        "El procesamiento de una imágen es muy costoso ya que tiene que trabajar en dos dimensiones (alto y ancho). \n",
        "Una imágen de tamaño 800*600 (que es relativamente de baja resolucion ya que hay imágenes de 2560*1024) tiene que procesar 480.000 pixeles.\n",
        "\n",
        "Al trabajar con procesamiento secuencial (**CPU**) se debe trabajar con bucles anidados para cubrir las dos dimensiones de la imágen por lo que la complejidad computaciónal es de tipo cuadrática por lo que los tiempos de respuestas son muy elevados. El tiempo de respuesta depende del tamaño de la imagén, un pequeño incremento en el tamaño de la imagén incrementa considerablemente el tiempo de respuesta.\n",
        "\n",
        "\n",
        "\n",
        "Cuando se trabaja con procesamiento paralelo (**CPU-GPU**) cada hilo ejecutado accede y modifica directamente un pixel de la imágen y al trabajar estos hilos de forma concurrente se eliminan los bucles anidados reduciendo así la complejidad computacional obteniendo muy buenos tiempos de respuestas incluso para imagenes con alta resolución."
      ]
    },
    {
      "cell_type": "markdown",
      "metadata": {
        "id": "6pY6kuKlAAAT"
      },
      "source": [
        "---\n",
        "# 6 Bibliografía\n",
        "\n",
        "\n",
        "[1] Procesamiento de imagenes: [PDF](http://www2.elo.utfsm.cl/~elo328/pdf1dpp/PDI13_Color_1dpp.pdf)\n",
        "\n",
        "[2] Canales de imagen digital: [Wiki](https://es.wikipedia.org/wiki/Canal_(imagen_digital) "
      ]
    }
  ]
}