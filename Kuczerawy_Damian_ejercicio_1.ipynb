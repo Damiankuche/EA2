{
  "nbformat": 4,
  "nbformat_minor": 0,
  "metadata": {
    "colab": {
      "name": "Kuczerawy_Damian_ejercicio_1.ipynb",
      "provenance": [],
      "collapsed_sections": [],
      "authorship_tag": "ABX9TyMLrOvkyTMuELOGcTIzKXtB",
      "include_colab_link": true
    },
    "kernelspec": {
      "name": "python3",
      "display_name": "Python 3"
    },
    "accelerator": "GPU"
  },
  "cells": [
    {
      "cell_type": "markdown",
      "metadata": {
        "id": "view-in-github",
        "colab_type": "text"
      },
      "source": [
        "<a href=\"https://colab.research.google.com/github/kuczerawy/EA2/blob/main/Kuczerawy_Damian_ejercicio_1.ipynb\" target=\"_parent\"><img src=\"https://colab.research.google.com/assets/colab-badge.svg\" alt=\"Open In Colab\"/></a>"
      ]
    },
    {
      "cell_type": "markdown",
      "metadata": {
        "id": "_-JyNfDjmfxt"
      },
      "source": [
        "---\n",
        "# 1 Introducción\n",
        "\n",
        "El siguiente cuaderno realiza el binomio de Newton[1] entre los componentes de dos vectores. El ejercicio se resuelve tanto usando únicamente CPU como tambien CPU-GPU para ver los tiempos de respuesta de cada tipo de ejecución.\n",
        "\n",
        "El binomio de Newton esta dado por la formnula:\n",
        "\n",
        " <center> $(a+b)^n$ </center>\n",
        "\n",
        "**Donde:**\n",
        "\n",
        "$a$ y $b$ son cada uno de los componentes de los vectores.\n",
        "\n",
        "$n$ es el parámetro potencia que solicita el código.\n",
        "\n",
        "Este cuaderno resuelvo hasta el binomio de potencia 4.\n",
        "\n",
        "Tipos de binomio:\n",
        "\n",
        "Potencia: 0\n",
        "\n",
        "$(a+b)^0 = 1$\n",
        "\n",
        "Potencia: 1\n",
        "\n",
        "$(a+b)^1 = a+b$\n",
        "\n",
        "Potencia: 2\n",
        "\n",
        "$(a+b)^2 = a^2+2a*b+b^2$\n",
        "\n",
        "Potencia: 3\n",
        "\n",
        "$(a+b)^3 = a^3+3a^2*b+3a*b^2+b^3$\n",
        "\n",
        "Potencia: 4\n",
        "\n",
        "$(a+b)^4 = a^4+4a^3*b+6a^2*b^2+4a*b^3+b^4$\n",
        "\n",
        "\n",
        "Estos ejercicios están resueltos en lenguaje Python[2] en la plataforma Colab[3]\n"
      ]
    },
    {
      "cell_type": "markdown",
      "metadata": {
        "id": "T1tS3CaiyhT6"
      },
      "source": [
        "---\n",
        "# 2 Armado del ambiente\n",
        "Instala en el cuaderno el módulo CUDA de Python para el correcto funcionamiento del item 3.2 donde el codigo se ejecuta en CPU-GPU."
      ]
    },
    {
      "cell_type": "code",
      "metadata": {
        "colab": {
          "base_uri": "https://localhost:8080/"
        },
        "id": "Pas5PujbGXmy",
        "outputId": "d6809303-b7af-461d-ccd3-634efb696e60"
      },
      "source": [
        "!pip install pycuda"
      ],
      "execution_count": 3,
      "outputs": [
        {
          "output_type": "stream",
          "text": [
            "Collecting pycuda\n",
            "\u001b[?25l  Downloading https://files.pythonhosted.org/packages/46/61/47d3235a4c13eec5a5f03594ddb268f4858734e02980afbcd806e6242fa5/pycuda-2020.1.tar.gz (1.6MB)\n",
            "\u001b[K     |████████████████████████████████| 1.6MB 9.4MB/s \n",
            "\u001b[?25hCollecting pytools>=2011.2\n",
            "\u001b[?25l  Downloading https://files.pythonhosted.org/packages/b7/30/c9362a282ef89106768cba9d884f4b2e4f5dc6881d0c19b478d2a710b82b/pytools-2020.4.3.tar.gz (62kB)\n",
            "\u001b[K     |████████████████████████████████| 71kB 10.3MB/s \n",
            "\u001b[?25hRequirement already satisfied: decorator>=3.2.0 in /usr/local/lib/python3.6/dist-packages (from pycuda) (4.4.2)\n",
            "Collecting appdirs>=1.4.0\n",
            "  Downloading https://files.pythonhosted.org/packages/3b/00/2344469e2084fb287c2e0b57b72910309874c3245463acd6cf5e3db69324/appdirs-1.4.4-py2.py3-none-any.whl\n",
            "Collecting mako\n",
            "\u001b[?25l  Downloading https://files.pythonhosted.org/packages/a6/37/0e706200d22172eb8fa17d68a7ae22dec7631a0a92266634fb518a88a5b2/Mako-1.1.3-py2.py3-none-any.whl (75kB)\n",
            "\u001b[K     |████████████████████████████████| 81kB 10.0MB/s \n",
            "\u001b[?25hRequirement already satisfied: six>=1.8.0 in /usr/local/lib/python3.6/dist-packages (from pytools>=2011.2->pycuda) (1.15.0)\n",
            "Requirement already satisfied: numpy>=1.6.0 in /usr/local/lib/python3.6/dist-packages (from pytools>=2011.2->pycuda) (1.18.5)\n",
            "Requirement already satisfied: dataclasses>=0.7 in /usr/local/lib/python3.6/dist-packages (from pytools>=2011.2->pycuda) (0.7)\n",
            "Requirement already satisfied: MarkupSafe>=0.9.2 in /usr/local/lib/python3.6/dist-packages (from mako->pycuda) (1.1.1)\n",
            "Building wheels for collected packages: pycuda, pytools\n",
            "  Building wheel for pycuda (setup.py) ... \u001b[?25l\u001b[?25hdone\n",
            "  Created wheel for pycuda: filename=pycuda-2020.1-cp36-cp36m-linux_x86_64.whl size=621008 sha256=ccc4927a442a9527a496f97156a3f200fd34b76f5768f5bd4bf6b95849e2bbef\n",
            "  Stored in directory: /root/.cache/pip/wheels/8f/78/d1/5bb826f81d9d490297a348d818ff3ee6dd6f2075b06dde6ea0\n",
            "  Building wheel for pytools (setup.py) ... \u001b[?25l\u001b[?25hdone\n",
            "  Created wheel for pytools: filename=pytools-2020.4.3-py2.py3-none-any.whl size=61374 sha256=7ec71ee19a28b9c1757b308d84c53080b33d8103b4fad981c51621d16c5c2df3\n",
            "  Stored in directory: /root/.cache/pip/wheels/af/c7/81/a22edb90b0b09a880468b2253bb1df8e9f503337ee15432c64\n",
            "Successfully built pycuda pytools\n",
            "Installing collected packages: appdirs, pytools, mako, pycuda\n",
            "Successfully installed appdirs-1.4.4 mako-1.1.3 pycuda-2020.1 pytools-2020.4.3\n"
          ],
          "name": "stdout"
        }
      ]
    },
    {
      "cell_type": "markdown",
      "metadata": {
        "id": "07Co-c8xyk4K"
      },
      "source": [
        "---\n",
        "# 3 Desarrollo\n"
      ]
    },
    {
      "cell_type": "code",
      "metadata": {
        "colab": {
          "base_uri": "https://localhost:8080/"
        },
        "id": "tchvZNVldRiz",
        "cellView": "form",
        "outputId": "f43a247b-e14f-4264-eacf-2f49f88ad4b5"
      },
      "source": [
        "# --------------------------------------------\n",
        "#@title 3.2 Parámetros de ejecución de CPU-GPU { vertical-output: true }\n",
        "try:\n",
        "  cantidad =   300#@param {type: \"number\"}\n",
        "  potencia =   4#@param {type: \"number\"}\n",
        "\n",
        "  # --------------------------------------------\n",
        "  if potencia < 0 or potencia > 4 or type(potencia) != type(1):\n",
        "    raise TypeError\n",
        "  if cantidad > 0:\n",
        "    raise TypeError\n",
        "\n",
        "  from datetime import datetime\n",
        "\n",
        "  tiempo_total = datetime.now()\n",
        "  import sys\n",
        "  import numpy\n",
        "\n",
        "  # --------------------------------------------\n",
        "  # Definición de función que transforma el tiempo en  milisegundos \n",
        "  tiempo_en_ms = lambda dt:(dt.days * 24 * 60 * 60 + dt.seconds) * 1000 + dt.microseconds / 1000.0\n",
        "\n",
        "\n",
        "  x_cpu = numpy.random.randn(cantidad)\n",
        "  x_cpu = x_cpu.astype(numpy.float32())\n",
        "\n",
        "  y_cpu = numpy.random.randn(cantidad)\n",
        "  y_cpu = y_cpu.astype(numpy.float32()) \n",
        "\n",
        "  res_cpu = numpy.empty_like (x_cpu)\n",
        "  \n",
        "  tiempo_bucle = datetime.now()\n",
        "\n",
        "\n",
        "  if potencia == 0:\n",
        "    for i in range(0, cantidad):\n",
        "      res_cpu[i] = 1\n",
        "  elif potencia == 1:\n",
        "    for i in range(0, cantidad):\n",
        "      res_cpu[idx] = X[idx] + Y[idx]\n",
        "  elif potencia == 2:\n",
        "    for i in range(0, cantidad):\n",
        "      res_cpu[i] = pow(x_cpu[i],2) + 2*x_cpu[i]*y_cpu[i]+pow(y_cpu[i],2)\n",
        "  elif potencia == 3:\n",
        "    for i in range(0, cantidad):\n",
        "      res_cpu[i] = pow(x_cpu[i],3) + 3*pow(x_cpu[i],2)*y_cpu[i]+3*x_cpu[i]*pow(y_cpu[i],2)+pow(y_cpu[i],3)\n",
        "  elif potencia == 4:\n",
        "    for i in range(0, cantidad):\n",
        "      res_cpu[i] = pow(x_cpu[i],4) + 4*pow(x_cpu[i],3)*y_cpu[i]+6*pow(x_cpu[i],2)*pow(y_cpu[i],2)+ 4*x_cpu[i]*pow(y_cpu[i],3)+pow(y_cpu[i],4)\n",
        "\n",
        "  tiempo_bucle = datetime.now() - tiempo_bucle\n",
        "\n",
        "  \"\"\"\n",
        "  # CPU - Informo el resutlado.\n",
        "  print( \"------------------------------------\")\n",
        "  print( \"X: \" )\n",
        "  print( x_cpu )\n",
        "  print( \"------------------------------------\")\n",
        "  print( \"Y: \" )\n",
        "  print( y_cpu )\n",
        "  print( \"------------------------------------\")\n",
        "  print( \"Resultado: \" )\n",
        "  print( res_cpu )\n",
        "\n",
        "  \"\"\"\n",
        "\n",
        "  tiempo_total = datetime.now() - tiempo_total\n",
        "\n",
        "  print( \"Cantidad de elementos: \", cantidad)\n",
        "  print( \"Thread x: \", dim_hilo, \", Bloque x:\", dim_bloque )\n",
        "  print(\"Tiempo CPU: \", tiempo_en_ms( tiempo_total ), \"[ms]\" )\n",
        "  print(\"Tiempo bucle: \", tiempo_en_ms( tiempo_bucle   ), \"[ms]\" )\n",
        "except TypeError as err:\n",
        "  print(\"Los parametros ingresados son incorrectos.\")\n",
        "  print(\"Cantidad debe ser un numero entero positivo.\")\n",
        "  print(\"Potencia debe ser un numero entero comprendido entre 0 y 4.\")\n",
        "  print(err)\n",
        "except NameError as err:\n",
        "  print(err)\n",
        "except Exception as err:\n",
        "  print(\"Ocurrió un error inesperado.\")\n",
        "  print(type(err))\n",
        "  print(err)\n"
      ],
      "execution_count": 100,
      "outputs": [
        {
          "output_type": "stream",
          "text": [
            "Cantidad de elementos:  300\n",
            "Thread x:  256 , Bloque x: 2\n",
            "Tiempo CPU:  9.134 [ms]\n",
            "Tiempo bucle:  8.924 [ms]\n"
          ],
          "name": "stdout"
        }
      ]
    },
    {
      "cell_type": "code",
      "metadata": {
        "colab": {
          "base_uri": "https://localhost:8080/"
        },
        "id": "Gc3XScVeLpDP",
        "cellView": "form",
        "outputId": "5f39a343-e51a-413a-8360-2a59748b0f27"
      },
      "source": [
        "# --------------------------------------------\n",
        "#@title 3.2 Parámetros de ejecución de CPU-GPU { vertical-output: true }\n",
        "try:\n",
        "  cantidad =   300#@param {type: \"number\"}\n",
        "  potencia =   4#@param {type: \"number\"}\n",
        "\n",
        "  # --------------------------------------------\n",
        "  if potencia < 0 or potencia > 4 or type(potencia) != type(1):\n",
        "    raise TypeError\n",
        "  if cantidad > 0:\n",
        "    raise TypeError\n",
        "\n",
        "  from datetime import datetime\n",
        "\n",
        "  tiempo_total = datetime.now()\n",
        "  try:\n",
        "    import sys\n",
        "    import pycuda.driver as cuda\n",
        "    import pycuda.autoinit\n",
        "    from pycuda.compiler import SourceModule\n",
        "  except:\n",
        "    print(\"No se ejecutó el Item 2 - Armado de ambiente.\")\n",
        "    raise NameError(\"Item 2 no ejecutado\")\n",
        "\n",
        "  import numpy\n",
        "\n",
        "  # --------------------------------------------\n",
        "  # Definición de función que transforma el tiempo en  milisegundos \n",
        "  tiempo_en_ms = lambda dt:(dt.days * 24 * 60 * 60 + dt.seconds) * 1000 + dt.microseconds / 1000.0\n",
        "\n",
        "  x_cpu = numpy.random.randn(cantidad)\n",
        "  x_cpu = x_cpu.astype(numpy.float32())\n",
        "\n",
        "  y_cpu = numpy.random.randn(cantidad)\n",
        "  y_cpu = y_cpu.astype(numpy.float32()) \n",
        "\n",
        "  res_cpu = numpy.empty_like (x_cpu)\n",
        "\n",
        "  #CPU - reservo la memoria GPU\n",
        "  x_gpu = cuda.mem_alloc(x_cpu.nbytes)\n",
        "  y_gpu = cuda.mem_alloc(y_cpu.nbytes)\n",
        "\n",
        "  #GPU - Copio la memoria al GPU\n",
        "  cuda.memcpy_htod(x_gpu, x_cpu)\n",
        "  cuda.memcpy_htod(y_gpu, y_cpu)\n",
        "\n",
        "\n",
        "  #CPU - Defino la función kernel que se ejecutará en GPU.\n",
        "  module = SourceModule(\"\"\"\n",
        "\n",
        "  __global__ void kernel_binomio(int n,int pot, float *X , float *Y)\n",
        "  {\n",
        "      int idx = threadIdx.x + blockIdx.x*blockDim.x;\n",
        "      if( idx < n){\n",
        "\n",
        "        switch(pot)\n",
        "        {\n",
        "            case 0:\n",
        "              Y[idx] = 1;\n",
        "            break;\n",
        "            case 1:\n",
        "              Y[idx] = X[idx] + Y[idx];\n",
        "            break;\n",
        "            case 2:\n",
        "              Y[idx] = pow(X[idx],2) + 2*X[idx]*Y[idx]+pow(Y[idx],2);\n",
        "            break;\n",
        "            case 3:\n",
        "              Y[idx] = pow(X[idx],3) + 3*pow(X[idx],2)*Y[idx]+3*X[idx]*pow(Y[idx],2)+pow(Y[idx],3);\n",
        "            break;\n",
        "            case 4:\n",
        "              Y[idx] = pow(X[idx],4) + 4*pow(X[idx],3)*Y[idx]+6*pow(X[idx],2)*pow(Y[idx],2)+ 4*X[idx]*pow(Y[idx],3)+pow(Y[idx],4);\n",
        "            break;\n",
        "        }\n",
        "      }   \n",
        "  }\n",
        "  \"\"\")\n",
        "  #CPU - genero la función kernel\n",
        "  kernel = module.get_function(\"kernel_binomio\")\n",
        "\n",
        "  tiempo_gpu = datetime.now()\n",
        "\n",
        "  # GPU - Ejecuta el kernel.\n",
        "  dim_hilo = 256\n",
        "  dim_bloque = numpy.int( (cantidad+dim_hilo-1) / dim_hilo )\n",
        "\n",
        "  kernel( numpy.int32(cantidad),numpy.int32(potencia), x_gpu, y_gpu, block=( dim_hilo, 1, 1 ),grid=(dim_bloque, 1,1) )\n",
        "\n",
        "  tiempo_gpu = datetime.now() - tiempo_gpu\n",
        "\n",
        "\n",
        "  # GPU - Copio el resultado desde la memoria GPU.\n",
        "  cuda.memcpy_dtoh(res_cpu, y_gpu)\n",
        "\n",
        "  \"\"\"\n",
        "  # CPU - Informo el resutlado.\n",
        "  print( \"------------------------------------\")\n",
        "  print( \"X: \" )\n",
        "  print( x_cpu )\n",
        "  print( \"------------------------------------\")\n",
        "  print( \"Y: \" )\n",
        "  print( y_cpu )\n",
        "  print( \"------------------------------------\")\n",
        "  print( \"Resultado: \" )\n",
        "  print( res_cpu )\n",
        "  \"\"\"\n",
        "\n",
        "  tiempo_total = datetime.now() - tiempo_total\n",
        "\n",
        "  print( \"Cantidad de elementos: \", cantidad)\n",
        "  print( \"Thread x: \", dim_hilo, \", Bloque x:\", dim_bloque )\n",
        "  print(\"Tiempo CPU: \", tiempo_en_ms( tiempo_total ), \"[ms]\" )\n",
        "  print(\"Tiempo GPU: \", tiempo_en_ms( tiempo_gpu   ), \"[ms]\" )\n",
        "\n",
        "except TypeError as err:\n",
        "  print(\"Los parametros ingresados son incorrectos.\")\n",
        "  print(\"Cantidad debe ser un numero entero positivo.\")\n",
        "  print(\"Potencia debe ser un numero entero comprendido entre 0 y 4.\")\n",
        "  print(err)\n",
        "except NameError as err:\n",
        "  print(err)\n",
        "except Exception as err:\n",
        "  print(\"Ocurrió un error inesperado.\")\n",
        "  print(type(err))\n",
        "  print(err)\n"
      ],
      "execution_count": 99,
      "outputs": [
        {
          "output_type": "stream",
          "text": [
            "Thread x:  256 , Bloque x: 2\n",
            "Cantidad de elementos:  300\n",
            "Thread x:  256 , Bloque x: 2\n",
            "Tiempo CPU:  2.128 [ms]\n",
            "Tiempo GPU:  0.258 [ms]\n"
          ],
          "name": "stdout"
        }
      ]
    },
    {
      "cell_type": "markdown",
      "metadata": {
        "id": "zRAjhbaWxRFY"
      },
      "source": [
        "---\n",
        "#4 Tabla de pasos\n",
        "Tabla de pasos de la ejecución del programa CPU:\n",
        "\n",
        " Procesador | Función | Detalle\n",
        "------------|---------|----------\n",
        "CPU      |  @param                | Lectura del tamaño de vectores desde Colab.\n",
        "CPU      |  validación                | Se validan los parametros ingresados.\n",
        "CPU      |  import                | Importa los módulos para funcionar.\n",
        "CPU      |  datetime.now()        | Toma el tiempo inicial.\n",
        "CPU      |  numpy.random.randn( Cantidad ) | Inicializa los vectores A, B y R.\n",
        "CPU      |  for...                | Realiza el binomio de los vectores A y B, guardando el resultado en R. \n",
        "CPU      |  datetime.now()        | Toma el tiempo final.\n",
        "CPU      |  print()               | Informa los resultados.\n",
        "\n"
      ]
    },
    {
      "cell_type": "markdown",
      "metadata": {
        "id": "FwyPa45oYg_D"
      },
      "source": [
        "Tabla de pasos de la ejecución del programa CPU-GPU:\n",
        "\n",
        " Procesador | Funciòn | Detalle\n",
        "------------|---------|----------\n",
        "CPU      |  @param                | Lectura del tamaño de vectores desde Colab.\n",
        "CPU      |  validación                | Se validan los parametros ingresados.\n",
        "CPU      |  import                | Importa los módulos para funcionar.\n",
        "CPU      |  datetime.now()        | Toma el tiempo actual.\n",
        "CPU      |  numpy.random.randn( Cantidad ) | Inicializa los vectores X, Y y Res.\n",
        "**GPU**  |  cuda.mem_alloc()      | Reserva la memoria en GPU.\n",
        "**GPU**  |  cuda.memcpy_htod()    | Copia las memorias desde el CPU al GPU.\n",
        "CPU      |  SourceModule()        | Define el código del kernel \n",
        "CPU      |  module.get_function() | Genera la función del kernel GPU\n",
        "CPU      |  dim_tx/dim_bx         | Calcula las dimensiones.\n",
        "**GPU**  |  kernel()              | Ejecuta el kernel en GPU\n",
        "CPU      |  cuda.memcpy_dtoh( )   | Copia el resultado desde GPU a CPU vector Res.\n",
        "CPU      |  print()               | Informo los resultados."
      ]
    },
    {
      "cell_type": "markdown",
      "metadata": {
        "id": "cogfR9AgxXt2"
      },
      "source": [
        "---\n",
        "# 5 Conclusiones\n",
        "\n",
        "Como se puede ver en las ejecuciones, para poco cálculo la ejecución secuencial en CPU es más rápida ya que la ejecución CPU-GPU tiene que hacer la reserva de memoria en el GPU, copiar los datos a trabajar y despues copiar otra vez los resultados al vector correspondiente, por lo que se traduce en un overhead enorme y por los pocos datos a procesar no tiene sentido.\n",
        "\n",
        "Pero si la carga de datos a procesar es muy grande la diferencia entre trabajar secuencialmente con trabajar con los threads del GPU de forma paralela es muy amplia y ahí si tiene sentido y da una respuesta muchisimo más rapida trabajar con el GPU."
      ]
    },
    {
      "cell_type": "markdown",
      "metadata": {
        "id": "ZSpvWMaTxdy9"
      },
      "source": [
        "---\n",
        "# 6 Bibliografía\n",
        "\n",
        "[1] Binomio de Newtom: [Wiki](https://es.wikipedia.org/wiki/Teorema_del_binomio)\n",
        "\n",
        "[2] Introducción a Python: [Página Colab](https://github.com/wvaliente/SOA_HPC/blob/main/Documentos/Python_Basico.ipynb) \n",
        "\n",
        "[3] MARKDOWN SYNTAX Colab: [PDF](https://github.com/wvaliente/SOA_HPC/blob/main/Documentos/markdown-cheatsheet-online.pdf)"
      ]
    }
  ]
}